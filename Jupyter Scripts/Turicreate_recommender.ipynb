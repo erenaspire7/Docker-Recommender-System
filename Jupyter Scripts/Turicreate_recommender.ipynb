{
  "nbformat": 4,
  "nbformat_minor": 0,
  "metadata": {
    "colab": {
      "name": "Turicreate recommender.ipynb",
      "provenance": []
    },
    "kernelspec": {
      "name": "python3",
      "display_name": "Python 3"
    }
  },
  "cells": [
    {
      "cell_type": "code",
      "metadata": {
        "id": "mOr7s9mLFvG2",
        "colab_type": "code",
        "outputId": "755660c9-7b27-4377-ce76-5355adb6c2aa",
        "colab": {
          "base_uri": "https://localhost:8080/",
          "height": 51
        }
      },
      "source": [
        "import os\n",
        "from google.colab import drive\n",
        "drive.mount('/gdrive')\n",
        "%cd /gdrive"
      ],
      "execution_count": 9,
      "outputs": [
        {
          "output_type": "stream",
          "text": [
            "Drive already mounted at /gdrive; to attempt to forcibly remount, call drive.mount(\"/gdrive\", force_remount=True).\n",
            "/gdrive\n"
          ],
          "name": "stdout"
        }
      ]
    },
    {
      "cell_type": "code",
      "metadata": {
        "id": "8fWEgJmla4n1",
        "colab_type": "code",
        "outputId": "b74ce148-d5d8-425f-ac9a-2d15c8c02810",
        "colab": {
          "base_uri": "https://localhost:8080/",
          "height": 1000
        }
      },
      "source": [
        "!pip install turicreate"
      ],
      "execution_count": 0,
      "outputs": [
        {
          "output_type": "stream",
          "text": [
            "Collecting turicreate\n",
            "\u001b[?25l  Downloading https://files.pythonhosted.org/packages/05/bf/d1c74d5002be47db24b13adde42e5898b1ff63cae31e582ddd908006ae37/turicreate-5.8-cp36-cp36m-manylinux1_x86_64.whl (90.7MB)\n",
            "\u001b[K     |████████████████████████████████| 90.7MB 256kB/s \n",
            "\u001b[?25hRequirement already satisfied: scipy>=1.1.0 in /usr/local/lib/python3.6/dist-packages (from turicreate) (1.3.1)\n",
            "Collecting pillow>=5.2.0 (from turicreate)\n",
            "\u001b[?25l  Downloading https://files.pythonhosted.org/packages/19/66/6113477dc3206ccb1e192cffd626f2840ead02375a6cebe2436ad4c19f61/Pillow-6.2.0-cp36-cp36m-manylinux1_x86_64.whl (2.1MB)\n",
            "\u001b[K     |████████████████████████████████| 2.1MB 37.6MB/s \n",
            "\u001b[?25hCollecting numpy==1.16.4 (from turicreate)\n",
            "\u001b[?25l  Downloading https://files.pythonhosted.org/packages/87/2d/e4656149cbadd3a8a0369fcd1a9c7d61cc7b87b3903b85389c70c989a696/numpy-1.16.4-cp36-cp36m-manylinux1_x86_64.whl (17.3MB)\n",
            "\u001b[K     |████████████████████████████████| 17.3MB 38.8MB/s \n",
            "\u001b[?25hRequirement already satisfied: pandas>=0.23.2 in /usr/local/lib/python3.6/dist-packages (from turicreate) (0.24.2)\n",
            "Collecting mxnet<1.2.0,>=1.1.0 (from turicreate)\n",
            "\u001b[?25l  Downloading https://files.pythonhosted.org/packages/96/98/c9877e100c3d1ac92263bfaba7bb8a49294e099046592040a2ff8620ac61/mxnet-1.1.0.post0-py2.py3-none-manylinux1_x86_64.whl (23.8MB)\n",
            "\u001b[K     |████████████████████████████████| 23.8MB 47.3MB/s \n",
            "\u001b[?25hRequirement already satisfied: decorator>=4.0.9 in /usr/local/lib/python3.6/dist-packages (from turicreate) (4.4.0)\n",
            "Requirement already satisfied: requests>=2.9.1 in /usr/local/lib/python3.6/dist-packages (from turicreate) (2.21.0)\n",
            "Collecting coremltools==3.0b3 (from turicreate)\n",
            "\u001b[?25l  Downloading https://files.pythonhosted.org/packages/b8/89/b69e3d446dbfe5632a8f24be0c7d03b19bcc6c0a0bd3d84c83c6680bb602/coremltools-3.0b3-cp36-none-manylinux1_x86_64.whl (3.4MB)\n",
            "\u001b[K     |████████████████████████████████| 3.4MB 32.9MB/s \n",
            "\u001b[?25hCollecting resampy==0.2.1 (from turicreate)\n",
            "\u001b[?25l  Downloading https://files.pythonhosted.org/packages/14/b6/66a06d85474190b50aee1a6c09cdc95bb405ac47338b27e9b21409da1760/resampy-0.2.1.tar.gz (322kB)\n",
            "\u001b[K     |████████████████████████████████| 327kB 56.1MB/s \n",
            "\u001b[?25hRequirement already satisfied: prettytable==0.7.2 in /usr/local/lib/python3.6/dist-packages (from turicreate) (0.7.2)\n",
            "Requirement already satisfied: six>=1.10.0 in /usr/local/lib/python3.6/dist-packages (from turicreate) (1.12.0)\n",
            "Requirement already satisfied: python-dateutil>=2.5.0 in /usr/local/lib/python3.6/dist-packages (from pandas>=0.23.2->turicreate) (2.5.3)\n",
            "Requirement already satisfied: pytz>=2011k in /usr/local/lib/python3.6/dist-packages (from pandas>=0.23.2->turicreate) (2018.9)\n",
            "Collecting graphviz<0.9.0,>=0.8.1 (from mxnet<1.2.0,>=1.1.0->turicreate)\n",
            "  Downloading https://files.pythonhosted.org/packages/53/39/4ab213673844e0c004bed8a0781a0721a3f6bb23eb8854ee75c236428892/graphviz-0.8.4-py2.py3-none-any.whl\n",
            "Requirement already satisfied: certifi>=2017.4.17 in /usr/local/lib/python3.6/dist-packages (from requests>=2.9.1->turicreate) (2019.9.11)\n",
            "Requirement already satisfied: idna<2.9,>=2.5 in /usr/local/lib/python3.6/dist-packages (from requests>=2.9.1->turicreate) (2.8)\n",
            "Requirement already satisfied: urllib3<1.25,>=1.21.1 in /usr/local/lib/python3.6/dist-packages (from requests>=2.9.1->turicreate) (1.24.3)\n",
            "Requirement already satisfied: chardet<3.1.0,>=3.0.2 in /usr/local/lib/python3.6/dist-packages (from requests>=2.9.1->turicreate) (3.0.4)\n",
            "Requirement already satisfied: protobuf>=3.1.0 in /usr/local/lib/python3.6/dist-packages (from coremltools==3.0b3->turicreate) (3.7.1)\n",
            "Requirement already satisfied: numba>=0.32 in /usr/local/lib/python3.6/dist-packages (from resampy==0.2.1->turicreate) (0.40.1)\n",
            "Requirement already satisfied: setuptools in /usr/local/lib/python3.6/dist-packages (from protobuf>=3.1.0->coremltools==3.0b3->turicreate) (41.2.0)\n",
            "Requirement already satisfied: llvmlite>=0.25.0dev0 in /usr/local/lib/python3.6/dist-packages (from numba>=0.32->resampy==0.2.1->turicreate) (0.29.0)\n",
            "Building wheels for collected packages: resampy\n",
            "  Building wheel for resampy (setup.py) ... \u001b[?25l\u001b[?25hdone\n",
            "  Created wheel for resampy: filename=resampy-0.2.1-cp36-none-any.whl size=320847 sha256=e75d1f109a586d102e5f7e1b6e0a74162ed32b86b66f2ed07e07a62a0b43ff0a\n",
            "  Stored in directory: /root/.cache/pip/wheels/ff/4f/ed/2e6c676c23efe5394bb40ade50662e90eb46e29b48324c5f9b\n",
            "Successfully built resampy\n",
            "\u001b[31mERROR: datascience 0.10.6 has requirement folium==0.2.1, but you'll have folium 0.8.3 which is incompatible.\u001b[0m\n",
            "\u001b[31mERROR: albumentations 0.1.12 has requirement imgaug<0.2.7,>=0.2.5, but you'll have imgaug 0.2.9 which is incompatible.\u001b[0m\n",
            "\u001b[31mERROR: mxnet 1.1.0.post0 has requirement numpy<1.15.0,>=1.8.2, but you'll have numpy 1.16.4 which is incompatible.\u001b[0m\n",
            "\u001b[31mERROR: mxnet 1.1.0.post0 has requirement requests<2.19.0,>=2.18.4, but you'll have requests 2.21.0 which is incompatible.\u001b[0m\n",
            "Installing collected packages: pillow, numpy, graphviz, mxnet, coremltools, resampy, turicreate\n",
            "  Found existing installation: Pillow 4.3.0\n",
            "    Uninstalling Pillow-4.3.0:\n",
            "      Successfully uninstalled Pillow-4.3.0\n",
            "  Found existing installation: numpy 1.16.5\n",
            "    Uninstalling numpy-1.16.5:\n",
            "      Successfully uninstalled numpy-1.16.5\n",
            "  Found existing installation: graphviz 0.10.1\n",
            "    Uninstalling graphviz-0.10.1:\n",
            "      Successfully uninstalled graphviz-0.10.1\n",
            "  Found existing installation: resampy 0.2.2\n",
            "    Uninstalling resampy-0.2.2:\n",
            "      Successfully uninstalled resampy-0.2.2\n",
            "Successfully installed coremltools-3.0b3 graphviz-0.8.4 mxnet-1.1.0.post0 numpy-1.16.4 pillow-6.2.0 resampy-0.2.1 turicreate-5.8\n"
          ],
          "name": "stdout"
        },
        {
          "output_type": "display_data",
          "data": {
            "application/vnd.colab-display-data+json": {
              "pip_warning": {
                "packages": [
                  "PIL",
                  "numpy"
                ]
              }
            }
          },
          "metadata": {
            "tags": []
          }
        }
      ]
    },
    {
      "cell_type": "code",
      "metadata": {
        "id": "nbPJMJ27XPMN",
        "colab_type": "code",
        "colab": {}
      },
      "source": [
        "# importing packages\n",
        "import pandas as pd\n",
        "import numpy as np\n",
        "import re\n",
        "from sklearn.feature_extraction.text import CountVectorizer\n",
        "from sklearn.metrics.pairwise import cosine_similarity\n",
        "from sklearn.feature_extraction.text import TfidfVectorizer\n",
        "from sklearn.metrics.pairwise import linear_kernel\n",
        "from html.parser import HTMLParser\n",
        "import turicreate as tc"
      ],
      "execution_count": 0,
      "outputs": []
    },
    {
      "cell_type": "code",
      "metadata": {
        "id": "nEB4ehtQUSyb",
        "colab_type": "code",
        "colab": {}
      },
      "source": [
        "path = '/gdrive/My Drive/hngi6/team_python/posts.json'"
      ],
      "execution_count": 0,
      "outputs": []
    },
    {
      "cell_type": "code",
      "metadata": {
        "id": "PQ-6zO7lXKmh",
        "colab_type": "code",
        "colab": {}
      },
      "source": [
        "df_posts = pd.read_json(path)"
      ],
      "execution_count": 0,
      "outputs": []
    },
    {
      "cell_type": "code",
      "metadata": {
        "id": "ApDl7427cJBW",
        "colab_type": "code",
        "colab": {}
      },
      "source": [
        "# df_posts.head()"
      ],
      "execution_count": 0,
      "outputs": []
    },
    {
      "cell_type": "code",
      "metadata": {
        "id": "WE-dyJkjdZnF",
        "colab_type": "code",
        "outputId": "ba158bec-2bd8-442d-9f56-b4e1b0ceafe4",
        "colab": {
          "base_uri": "https://localhost:8080/",
          "height": 34
        }
      },
      "source": [
        "df_posts.shape"
      ],
      "execution_count": 0,
      "outputs": [
        {
          "output_type": "execute_result",
          "data": {
            "text/plain": [
              "(876, 12)"
            ]
          },
          "metadata": {
            "tags": []
          },
          "execution_count": 5
        }
      ]
    },
    {
      "cell_type": "code",
      "metadata": {
        "id": "PH9m7rvmdggn",
        "colab_type": "code",
        "colab": {}
      },
      "source": [
        "# Dropping irrelevant cols\n",
        "col = ['slug', 'created_at', 'updated_at', 'image', 'action', 'status_id', 'post_id', 'user_id']\n",
        "\n",
        "df_posts2 = df_posts.drop(col, axis=1)\n",
        "df_posts2.rename(columns={'id': 'post_id'}, inplace = True)\n",
        "# df_posts2.head()"
      ],
      "execution_count": 0,
      "outputs": []
    },
    {
      "cell_type": "code",
      "metadata": {
        "id": "osQGSy49eVmC",
        "colab_type": "code",
        "colab": {}
      },
      "source": [
        "# Functions for cleaning data\n",
        "class MLStripper(HTMLParser):\n",
        "    '''inherting the html parser to remove all matching html tags'''\n",
        "    def __init__(self):\n",
        "        self.reset()\n",
        "        self.strict = False\n",
        "        self.convert_charrefs= True\n",
        "        self.fed = []\n",
        "    def handle_data(self, d):\n",
        "        self.fed.append(d)\n",
        "    def get_data(self):\n",
        "        return ''.join(self.fed)\n",
        "\n",
        "def strip_tags(html):\n",
        "    '''functions that instantiates the MLStripper class and passed the text ''' \n",
        "    s = MLStripper()\n",
        "    s.feed(html)\n",
        "    return s.get_data()\n",
        "\n",
        "def strip_line(x):\n",
        "    '''removes regex and extra spaces'''\n",
        "    stri = re.sub(r'[^\\w]', ' ', x)\n",
        "    return stri.strip()"
      ],
      "execution_count": 0,
      "outputs": []
    },
    {
      "cell_type": "code",
      "metadata": {
        "id": "O5VJH5I-fMc2",
        "colab_type": "code",
        "colab": {}
      },
      "source": [
        "# Applying functions to clean data\n",
        "df_posts2['content'] = df_posts2['content'].map(strip_tags)\n",
        "df_posts2['content'] = df_posts2['content'].map(strip_line)\n",
        "df_posts2['content'] = df_posts2['content'].map(lambda x: x.strip().lower())\n",
        "df_posts2['title'] = df_posts2['title'].apply(lambda x: x.strip().lower())\n",
        "\n",
        "# features that will be usd to find similarity between posts\n",
        "features = ['title', 'content', 'tags']\n",
        "\n",
        "# replace nonetypes with empty string\n",
        "df_posts2[features] = df_posts2[features].fillna('')\n",
        "# df_posts2.head()"
      ],
      "execution_count": 0,
      "outputs": []
    },
    {
      "cell_type": "code",
      "metadata": {
        "id": "CPK8HjLygSE2",
        "colab_type": "code",
        "outputId": "2014af62-79e3-469a-e0b8-ee4a74451d57",
        "colab": {
          "base_uri": "https://localhost:8080/",
          "height": 1000
        }
      },
      "source": [
        "# creating a combined features column that has applyed the combine_features function to each row \n",
        "def combine_features(row):\n",
        "    ''' combine features together to find similarity '''\n",
        "    try:\n",
        "        return row['title']+\" \"+row['content']+\" \"+row['tags']\n",
        "    except:\n",
        "        pass\n",
        "\n",
        "df_posts2['combined_features'] = df_posts2.apply(combine_features, axis=1)\n",
        "data = df_posts2.drop(features, axis=1)\n",
        "data"
      ],
      "execution_count": 122,
      "outputs": [
        {
          "output_type": "execute_result",
          "data": {
            "text/html": [
              "<div>\n",
              "<style scoped>\n",
              "    .dataframe tbody tr th:only-of-type {\n",
              "        vertical-align: middle;\n",
              "    }\n",
              "\n",
              "    .dataframe tbody tr th {\n",
              "        vertical-align: top;\n",
              "    }\n",
              "\n",
              "    .dataframe thead th {\n",
              "        text-align: right;\n",
              "    }\n",
              "</style>\n",
              "<table border=\"1\" class=\"dataframe\">\n",
              "  <thead>\n",
              "    <tr style=\"text-align: right;\">\n",
              "      <th></th>\n",
              "      <th>post_id</th>\n",
              "      <th>combined_features</th>\n",
              "    </tr>\n",
              "  </thead>\n",
              "  <tbody>\n",
              "    <tr>\n",
              "      <th>0</th>\n",
              "      <td>1</td>\n",
              "      <td>what i have learnt so far on html i learnt how...</td>\n",
              "    </tr>\n",
              "    <tr>\n",
              "      <th>1</th>\n",
              "      <td>2</td>\n",
              "      <td>html begins here i am on this journey with sta...</td>\n",
              "    </tr>\n",
              "    <tr>\n",
              "      <th>2</th>\n",
              "      <td>4</td>\n",
              "      <td>my laziness in the open i have not been attend...</td>\n",
              "    </tr>\n",
              "    <tr>\n",
              "      <th>3</th>\n",
              "      <td>6</td>\n",
              "      <td>my task 2 my journey on   startng   pre intern...</td>\n",
              "    </tr>\n",
              "    <tr>\n",
              "      <th>4</th>\n",
              "      <td>7</td>\n",
              "      <td>task 2 a summary on the  idongesit html  cv  i...</td>\n",
              "    </tr>\n",
              "    <tr>\n",
              "      <th>5</th>\n",
              "      <td>8</td>\n",
              "      <td>my journey on html using the hyper text markup...</td>\n",
              "    </tr>\n",
              "    <tr>\n",
              "      <th>6</th>\n",
              "      <td>9</td>\n",
              "      <td>startng html exposition storage 2040 images im...</td>\n",
              "    </tr>\n",
              "    <tr>\n",
              "      <th>7</th>\n",
              "      <td>11</td>\n",
              "      <td>my task 2 my journey on   startng   pre intern...</td>\n",
              "    </tr>\n",
              "    <tr>\n",
              "      <th>8</th>\n",
              "      <td>12</td>\n",
              "      <td>startng html task i have learned a lot about h...</td>\n",
              "    </tr>\n",
              "    <tr>\n",
              "      <th>9</th>\n",
              "      <td>13</td>\n",
              "      <td>on startng pre-internship what i have learned ...</td>\n",
              "    </tr>\n",
              "    <tr>\n",
              "      <th>10</th>\n",
              "      <td>15</td>\n",
              "      <td>why lucid why na</td>\n",
              "    </tr>\n",
              "    <tr>\n",
              "      <th>11</th>\n",
              "      <td>16</td>\n",
              "      <td>please note the screenshot of my html cv attac...</td>\n",
              "    </tr>\n",
              "    <tr>\n",
              "      <th>12</th>\n",
              "      <td>20</td>\n",
              "      <td>hng internship journey so far so far on the hn...</td>\n",
              "    </tr>\n",
              "    <tr>\n",
              "      <th>13</th>\n",
              "      <td>21</td>\n",
              "      <td>what i done so far i have learnt about html ta...</td>\n",
              "    </tr>\n",
              "    <tr>\n",
              "      <th>14</th>\n",
              "      <td>23</td>\n",
              "      <td>learnt learn and learning so far into the worl...</td>\n",
              "    </tr>\n",
              "    <tr>\n",
              "      <th>15</th>\n",
              "      <td>24</td>\n",
              "      <td>learning web development at startng with this ...</td>\n",
              "    </tr>\n",
              "    <tr>\n",
              "      <th>16</th>\n",
              "      <td>25</td>\n",
              "      <td>the journey with startng: creating my cv with ...</td>\n",
              "    </tr>\n",
              "    <tr>\n",
              "      <th>17</th>\n",
              "      <td>26</td>\n",
              "      <td>what i have done so far on start.ng when i emb...</td>\n",
              "    </tr>\n",
              "    <tr>\n",
              "      <th>18</th>\n",
              "      <td>27</td>\n",
              "      <td>task number 7 what i have learnt so far  even ...</td>\n",
              "    </tr>\n",
              "    <tr>\n",
              "      <th>19</th>\n",
              "      <td>29</td>\n",
              "      <td>what has been learnt so far? it has been an in...</td>\n",
              "    </tr>\n",
              "    <tr>\n",
              "      <th>20</th>\n",
              "      <td>30</td>\n",
              "      <td>what i have done so far on html storage 225 im...</td>\n",
              "    </tr>\n",
              "    <tr>\n",
              "      <th>21</th>\n",
              "      <td>32</td>\n",
              "      <td>task 2 hi guys          on the previous post i...</td>\n",
              "    </tr>\n",
              "    <tr>\n",
              "      <th>22</th>\n",
              "      <td>33</td>\n",
              "      <td>curriculum vitae in html exploring the possibi...</td>\n",
              "    </tr>\n",
              "    <tr>\n",
              "      <th>23</th>\n",
              "      <td>34</td>\n",
              "      <td>hng start.ng task 2 the second task that was a...</td>\n",
              "    </tr>\n",
              "    <tr>\n",
              "      <th>24</th>\n",
              "      <td>35</td>\n",
              "      <td>kikkymakz 1   achieveing this was a huge succe...</td>\n",
              "    </tr>\n",
              "    <tr>\n",
              "      <th>25</th>\n",
              "      <td>36</td>\n",
              "      <td>startng task one what i have learnt so far    ...</td>\n",
              "    </tr>\n",
              "    <tr>\n",
              "      <th>26</th>\n",
              "      <td>37</td>\n",
              "      <td>the journey so far i just created my first htm...</td>\n",
              "    </tr>\n",
              "    <tr>\n",
              "      <th>27</th>\n",
              "      <td>39</td>\n",
              "      <td>html: the journey so far. html  hypertext mark...</td>\n",
              "    </tr>\n",
              "    <tr>\n",
              "      <th>28</th>\n",
              "      <td>40</td>\n",
              "      <td>public journal :task 2. html cv firstly i cant...</td>\n",
              "    </tr>\n",
              "    <tr>\n",
              "      <th>29</th>\n",
              "      <td>41</td>\n",
              "      <td>my cv using html this week s task opened my ey...</td>\n",
              "    </tr>\n",
              "    <tr>\n",
              "      <th>...</th>\n",
              "      <td>...</td>\n",
              "      <td>...</td>\n",
              "    </tr>\n",
              "    <tr>\n",
              "      <th>846</th>\n",
              "      <td>967</td>\n",
              "      <td>css (cascading style sheet) css  cascading sty...</td>\n",
              "    </tr>\n",
              "    <tr>\n",
              "      <th>847</th>\n",
              "      <td>968</td>\n",
              "      <td>css has added beauty to my webpage working wit...</td>\n",
              "    </tr>\n",
              "    <tr>\n",
              "      <th>848</th>\n",
              "      <td>969</td>\n",
              "      <td>my html experience i have gotten to the second...</td>\n",
              "    </tr>\n",
              "    <tr>\n",
              "      <th>849</th>\n",
              "      <td>970</td>\n",
              "      <td>ella's start-ng experience to be honest  how d...</td>\n",
              "    </tr>\n",
              "    <tr>\n",
              "      <th>850</th>\n",
              "      <td>980</td>\n",
              "      <td>post title</td>\n",
              "    </tr>\n",
              "    <tr>\n",
              "      <th>851</th>\n",
              "      <td>981</td>\n",
              "      <td>html test html                       faces    ...</td>\n",
              "    </tr>\n",
              "    <tr>\n",
              "      <th>852</th>\n",
              "      <td>982</td>\n",
              "      <td>your high iq will kill your startup in 2004 i ...</td>\n",
              "    </tr>\n",
              "    <tr>\n",
              "      <th>853</th>\n",
              "      <td>983</td>\n",
              "      <td>a chinese villager who sells more software dai...</td>\n",
              "    </tr>\n",
              "    <tr>\n",
              "      <th>854</th>\n",
              "      <td>984</td>\n",
              "      <td>build around your discovery mechanism when you...</td>\n",
              "    </tr>\n",
              "    <tr>\n",
              "      <th>855</th>\n",
              "      <td>985</td>\n",
              "      <td>don't ask why you were rejected i ve noticed s...</td>\n",
              "    </tr>\n",
              "    <tr>\n",
              "      <th>856</th>\n",
              "      <td>986</td>\n",
              "      <td>the sunflower a field of sunflowers sat beside...</td>\n",
              "    </tr>\n",
              "    <tr>\n",
              "      <th>857</th>\n",
              "      <td>987</td>\n",
              "      <td>welcome to lucid here you get the best of blog...</td>\n",
              "    </tr>\n",
              "    <tr>\n",
              "      <th>858</th>\n",
              "      <td>988</td>\n",
              "      <td>this is lucid i love this app</td>\n",
              "    </tr>\n",
              "    <tr>\n",
              "      <th>859</th>\n",
              "      <td>989</td>\n",
              "      <td>this is a test post i need this to work</td>\n",
              "    </tr>\n",
              "    <tr>\n",
              "      <th>860</th>\n",
              "      <td>991</td>\n",
              "      <td>post with two images here and now man       st...</td>\n",
              "    </tr>\n",
              "    <tr>\n",
              "      <th>861</th>\n",
              "      <td>992</td>\n",
              "      <td>this is mine mine</td>\n",
              "    </tr>\n",
              "    <tr>\n",
              "      <th>862</th>\n",
              "      <td>993</td>\n",
              "      <td>your face php script this is what you see     ...</td>\n",
              "    </tr>\n",
              "    <tr>\n",
              "      <th>863</th>\n",
              "      <td>994</td>\n",
              "      <td>first first Health</td>\n",
              "    </tr>\n",
              "    <tr>\n",
              "      <th>864</th>\n",
              "      <td>995</td>\n",
              "      <td>second second     storage 1 images img ga0dlp9...</td>\n",
              "    </tr>\n",
              "    <tr>\n",
              "      <th>865</th>\n",
              "      <td>996</td>\n",
              "      <td>third third     storage 1 images img hta9olnji...</td>\n",
              "    </tr>\n",
              "    <tr>\n",
              "      <th>866</th>\n",
              "      <td>998</td>\n",
              "      <td>with picture storage 2 images img rw5rbxsjg4 j...</td>\n",
              "    </tr>\n",
              "    <tr>\n",
              "      <th>867</th>\n",
              "      <td>999</td>\n",
              "      <td>test jnlkj               storage 4 images img ...</td>\n",
              "    </tr>\n",
              "    <tr>\n",
              "      <th>868</th>\n",
              "      <td>1000</td>\n",
              "      <td>asda plain test</td>\n",
              "    </tr>\n",
              "    <tr>\n",
              "      <th>869</th>\n",
              "      <td>1001</td>\n",
              "      <td>speed of light</td>\n",
              "    </tr>\n",
              "    <tr>\n",
              "      <th>870</th>\n",
              "      <td>1002</td>\n",
              "      <td>am ok let s do this ooooooooooooooo edit and b...</td>\n",
              "    </tr>\n",
              "    <tr>\n",
              "      <th>871</th>\n",
              "      <td>1003</td>\n",
              "      <td>jbhjkhkbb jkhbjilbjhb v hvhjbv h hbv jhkv</td>\n",
              "    </tr>\n",
              "    <tr>\n",
              "      <th>872</th>\n",
              "      <td>1004</td>\n",
              "      <td>testing tags and really long posts testing tag...</td>\n",
              "    </tr>\n",
              "    <tr>\n",
              "      <th>873</th>\n",
              "      <td>1005</td>\n",
              "      <td>testing image test if image works</td>\n",
              "    </tr>\n",
              "    <tr>\n",
              "      <th>874</th>\n",
              "      <td>1006</td>\n",
              "      <td>test</td>\n",
              "    </tr>\n",
              "    <tr>\n",
              "      <th>875</th>\n",
              "      <td>1007</td>\n",
              "      <td>my first post about time i made one  bold work...</td>\n",
              "    </tr>\n",
              "  </tbody>\n",
              "</table>\n",
              "<p>876 rows × 2 columns</p>\n",
              "</div>"
            ],
            "text/plain": [
              "     post_id                                  combined_features\n",
              "0          1  what i have learnt so far on html i learnt how...\n",
              "1          2  html begins here i am on this journey with sta...\n",
              "2          4  my laziness in the open i have not been attend...\n",
              "3          6  my task 2 my journey on   startng   pre intern...\n",
              "4          7  task 2 a summary on the  idongesit html  cv  i...\n",
              "5          8  my journey on html using the hyper text markup...\n",
              "6          9  startng html exposition storage 2040 images im...\n",
              "7         11  my task 2 my journey on   startng   pre intern...\n",
              "8         12  startng html task i have learned a lot about h...\n",
              "9         13  on startng pre-internship what i have learned ...\n",
              "10        15                                  why lucid why na \n",
              "11        16  please note the screenshot of my html cv attac...\n",
              "12        20  hng internship journey so far so far on the hn...\n",
              "13        21  what i done so far i have learnt about html ta...\n",
              "14        23  learnt learn and learning so far into the worl...\n",
              "15        24  learning web development at startng with this ...\n",
              "16        25  the journey with startng: creating my cv with ...\n",
              "17        26  what i have done so far on start.ng when i emb...\n",
              "18        27  task number 7 what i have learnt so far  even ...\n",
              "19        29  what has been learnt so far? it has been an in...\n",
              "20        30  what i have done so far on html storage 225 im...\n",
              "21        32  task 2 hi guys          on the previous post i...\n",
              "22        33  curriculum vitae in html exploring the possibi...\n",
              "23        34  hng start.ng task 2 the second task that was a...\n",
              "24        35  kikkymakz 1   achieveing this was a huge succe...\n",
              "25        36  startng task one what i have learnt so far    ...\n",
              "26        37  the journey so far i just created my first htm...\n",
              "27        39  html: the journey so far. html  hypertext mark...\n",
              "28        40  public journal :task 2. html cv firstly i cant...\n",
              "29        41  my cv using html this week s task opened my ey...\n",
              "..       ...                                                ...\n",
              "846      967  css (cascading style sheet) css  cascading sty...\n",
              "847      968  css has added beauty to my webpage working wit...\n",
              "848      969  my html experience i have gotten to the second...\n",
              "849      970  ella's start-ng experience to be honest  how d...\n",
              "850      980                                       post title  \n",
              "851      981  html test html                       faces    ...\n",
              "852      982  your high iq will kill your startup in 2004 i ...\n",
              "853      983  a chinese villager who sells more software dai...\n",
              "854      984  build around your discovery mechanism when you...\n",
              "855      985  don't ask why you were rejected i ve noticed s...\n",
              "856      986  the sunflower a field of sunflowers sat beside...\n",
              "857      987  welcome to lucid here you get the best of blog...\n",
              "858      988                     this is lucid i love this app \n",
              "859      989           this is a test post i need this to work \n",
              "860      991  post with two images here and now man       st...\n",
              "861      992                                 this is mine mine \n",
              "862      993  your face php script this is what you see     ...\n",
              "863      994                                 first first Health\n",
              "864      995  second second     storage 1 images img ga0dlp9...\n",
              "865      996  third third     storage 1 images img hta9olnji...\n",
              "866      998  with picture storage 2 images img rw5rbxsjg4 j...\n",
              "867      999  test jnlkj               storage 4 images img ...\n",
              "868     1000                                   asda plain test \n",
              "869     1001                                   speed of light  \n",
              "870     1002  am ok let s do this ooooooooooooooo edit and b...\n",
              "871     1003         jbhjkhkbb jkhbjilbjhb v hvhjbv h hbv jhkv \n",
              "872     1004  testing tags and really long posts testing tag...\n",
              "873     1005                 testing image test if image works \n",
              "874     1006                                             test  \n",
              "875     1007  my first post about time i made one  bold work...\n",
              "\n",
              "[876 rows x 2 columns]"
            ]
          },
          "metadata": {
            "tags": []
          },
          "execution_count": 122
        }
      ]
    },
    {
      "cell_type": "code",
      "metadata": {
        "id": "aD4qIoYAhM-f",
        "colab_type": "code",
        "outputId": "2d0e851f-f2fb-4596-d882-4265115e86af",
        "colab": {
          "base_uri": "https://localhost:8080/",
          "height": 119
        }
      },
      "source": [
        "# Checking missing values\n",
        "df_posts2.isnull().sum()"
      ],
      "execution_count": 123,
      "outputs": [
        {
          "output_type": "execute_result",
          "data": {
            "text/plain": [
              "content              0\n",
              "post_id              0\n",
              "tags                 0\n",
              "title                0\n",
              "combined_features    0\n",
              "dtype: int64"
            ]
          },
          "metadata": {
            "tags": []
          },
          "execution_count": 123
        }
      ]
    },
    {
      "cell_type": "code",
      "metadata": {
        "id": "9vDNT2-hjDMA",
        "colab_type": "code",
        "colab": {}
      },
      "source": [
        "# converting data to turicreate Sframe\n",
        "data2 = tc.SFrame(data)"
      ],
      "execution_count": 0,
      "outputs": []
    },
    {
      "cell_type": "code",
      "metadata": {
        "id": "LQONWIvckrE1",
        "colab_type": "code",
        "colab": {}
      },
      "source": [
        "contentbased_model = tc.recommender.item_content_recommender.create(item_data=data2, item_id='post_id', verbose=False)"
      ],
      "execution_count": 0,
      "outputs": []
    },
    {
      "cell_type": "code",
      "metadata": {
        "id": "x_djeH2qyyRe",
        "colab_type": "code",
        "colab": {}
      },
      "source": [
        "#Construct a reverse map of indices and post titles\n",
        "indices = pd.Series(df_posts2['post_id'].values, index=df_posts2['title'].values)\n",
        "indices2 = pd.Series(df_posts2['title'].values, index=df_posts2['post_id'].values)\n",
        "\n",
        "\n",
        "def get_recommendations(title, indices=indices): # Function to get 5 recommendations based on similar posts\n",
        "  \n",
        "  try:\n",
        "    idx = indices[title.lower()]\n",
        "\n",
        "    # Get 5 recommendations based on similar post\n",
        "    rec = list(contentbased_model.recommend_from_interactions([idx], k=5))\n",
        "    \n",
        "    # Get post_id of recommended posts\n",
        "    post_id = [rec[x]['post_id'] for x, i in enumerate(rec)]\n",
        "    \n",
        "    # Return the top 5 most similar posts\n",
        "    print(\"RECOMMENDATIONS BASED ON YOUR READING PATTERN\\n\")\n",
        "    return indices2.loc[post_id]\n",
        "  \n",
        "  except KeyError:\n",
        "    print(\"We Have No Recommendations For You!\")\n",
        "\n"
      ],
      "execution_count": 0,
      "outputs": []
    },
    {
      "cell_type": "code",
      "metadata": {
        "id": "vY2_vF91rpGI",
        "colab_type": "code",
        "colab": {
          "base_uri": "https://localhost:8080/",
          "height": 153
        },
        "outputId": "ff00b0b8-44d2-46b7-a761-7dfe0c1b9cb1"
      },
      "source": [
        "title = 'html begins here'\n",
        "get_recommendations(title)"
      ],
      "execution_count": 161,
      "outputs": [
        {
          "output_type": "stream",
          "text": [
            "RECOMMENDATIONS BASED ON YOUR READING PATTERN\n",
            "\n"
          ],
          "name": "stdout"
        },
        {
          "output_type": "execute_result",
          "data": {
            "text/plain": [
              "7                                 task 2\n",
              "900                   my first html page\n",
              "140                 introduction to html\n",
              "663       start.ng: work done using html\n",
              "664    start.ng: work done so far - html\n",
              "dtype: object"
            ]
          },
          "metadata": {
            "tags": []
          },
          "execution_count": 161
        }
      ]
    }
  ]
}